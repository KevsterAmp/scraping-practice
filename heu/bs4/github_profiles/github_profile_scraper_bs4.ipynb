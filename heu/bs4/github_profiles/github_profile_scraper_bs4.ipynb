{
  "cells": [
    {
      "cell_type": "code",
      "execution_count": null,
      "metadata": {
        "id": "pR7lhXURW3ia"
      },
      "outputs": [],
      "source": [
        "!pip install bs4 --quiet"
      ]
    },
    {
      "cell_type": "code",
      "execution_count": null,
      "metadata": {
        "id": "OtPvajRHW-bH"
      },
      "outputs": [],
      "source": [
        "import pandas as pd\n",
        "from bs4 import BeautifulSoup\n",
        "import requests"
      ]
    },
    {
      "cell_type": "code",
      "execution_count": null,
      "metadata": {
        "id": "6EEo-xckXHTP"
      },
      "outputs": [],
      "source": [
        "url = 'https://github.com/kevsteramp'\n",
        "useragent = {'User-agent': 'Mozilla/5.0 (Windows NT 10.0; Win64; x64) AppleWebKit/537.36 (KHTML, like Gecko) Chrome/110.0.0.0 Safari/537.36 Edg/110.0.1587.63'}\n",
        "r = requests.get(url, headers=useragent)\n",
        "soup = BeautifulSoup(r.text)"
      ]
    },
    {
      "cell_type": "code",
      "execution_count": null,
      "metadata": {
        "colab": {
          "base_uri": "https://localhost:8080/"
        },
        "id": "ZirsqxfyXX1O",
        "outputId": "b27e4486-ad00-481d-ebd6-5b2d39fe8f40"
      },
      "outputs": [
        {
          "name": "stdout",
          "output_type": "stream",
          "text": [
            "Kevin\n"
          ]
        }
      ],
      "source": [
        "name = soup.select_one(\"h1.vcard-names > span:nth-of-type(1)\").text.strip()\n",
        "print(name)"
      ]
    },
    {
      "cell_type": "code",
      "execution_count": null,
      "metadata": {
        "colab": {
          "base_uri": "https://localhost:8080/"
        },
        "id": "ClIep1njYXat",
        "outputId": "433f8baa-3452-4fdf-e1c1-3340d48f8592"
      },
      "outputs": [
        {
          "name": "stdout",
          "output_type": "stream",
          "text": [
            "Head of Data Engineering at @Google-Developer-Student-Clubs-PUP-Main\n"
          ]
        }
      ],
      "source": [
        "bio = soup.select(\"div.p-note.user-profile-bio.mb-3.js-user-profile-bio.f4 > *\")[0].text.strip()\n",
        "print(bio)"
      ]
    },
    {
      "cell_type": "code",
      "execution_count": null,
      "metadata": {
        "colab": {
          "base_uri": "https://localhost:8080/",
          "height": 35
        },
        "id": "4yCUDmTNZaJc",
        "outputId": "bd90ba5f-dbf1-42da-8201-e7a71a1e9675"
      },
      "outputs": [
        {
          "data": {
            "application/vnd.google.colaboratory.intrinsic+json": {
              "type": "string"
            },
            "text/plain": [
              "'408'"
            ]
          },
          "execution_count": 103,
          "metadata": {},
          "output_type": "execute_result"
        }
      ],
      "source": [
        "contrib = soup.select_one(\"div.position-relative > h2\").text.replace(\" \", \"\").replace(\"\\n\", \"\").replace(\"contributionsinthelastyear\", \"\")\n",
        "contrib"
      ]
    },
    {
      "cell_type": "code",
      "execution_count": null,
      "metadata": {
        "colab": {
          "base_uri": "https://localhost:8080/"
        },
        "id": "aFhr_lBtaX6K",
        "outputId": "2c61fb9e-ecad-4687-f650-8733d8e03139"
      },
      "outputs": [
        {
          "name": "stdout",
          "output_type": "stream",
          "text": [
            "<div class=\"flex-order-1 flex-md-order-none mt-2 mt-md-0\">\n",
            "<div class=\"mb-3\">\n",
            "<a class=\"Link--secondary no-underline no-wrap\" href=\"https://github.com/KevsterAmp?tab=followers\">\n",
            "<svg aria-hidden=\"true\" class=\"octicon octicon-people\" data-view-component=\"true\" height=\"16\" text=\"muted\" version=\"1.1\" viewbox=\"0 0 16 16\" width=\"16\">\n",
            "<path d=\"M2 5.5a3.5 3.5 0 1 1 5.898 2.549 5.508 5.508 0 0 1 3.034 4.084.75.75 0 1 1-1.482.235 4 4 0 0 0-7.9 0 .75.75 0 0 1-1.482-.236A5.507 5.507 0 0 1 3.102 8.05 3.493 3.493 0 0 1 2 5.5ZM11 4a3.001 3.001 0 0 1 2.22 5.018 5.01 5.01 0 0 1 2.56 3.012.749.749 0 0 1-.885.954.752.752 0 0 1-.549-.514 3.507 3.507 0 0 0-2.522-2.372.75.75 0 0 1-.574-.73v-.352a.75.75 0 0 1 .416-.672A1.5 1.5 0 0 0 11 5.5.75.75 0 0 1 11 4Zm-5.5-.5a2 2 0 1 0-.001 3.999A2 2 0 0 0 5.5 3.5Z\"></path>\n",
            "</svg>\n",
            "<span class=\"text-bold color-fg-default\">12</span>\n",
            "          followers\n",
            "</a>        · <a class=\"Link--secondary no-underline no-wrap\" href=\"https://github.com/KevsterAmp?tab=following\">\n",
            "<span class=\"text-bold color-fg-default\">30</span>\n",
            "          following\n",
            "</a> </div>\n",
            "</div>\n"
          ]
        }
      ],
      "source": [
        "div = soup.select_one(\"div.flex-order-1.flex-md-order-none.mt-2.mt-md-0\")\n",
        "print(div)"
      ]
    },
    {
      "cell_type": "code",
      "execution_count": null,
      "metadata": {
        "colab": {
          "base_uri": "https://localhost:8080/",
          "height": 35
        },
        "id": "w-z4FmWabYhn",
        "outputId": "7a870156-3dbe-4084-ce89-f2ca91082fc0"
      },
      "outputs": [
        {
          "data": {
            "application/vnd.google.colaboratory.intrinsic+json": {
              "type": "string"
            },
            "text/plain": [
              "'12'"
            ]
          },
          "execution_count": 105,
          "metadata": {},
          "output_type": "execute_result"
        }
      ],
      "source": [
        "followers = div.select_one(\"div:nth-of-type(1) > a:nth-of-type(1) > span\").text\n",
        "followers"
      ]
    },
    {
      "cell_type": "code",
      "execution_count": null,
      "metadata": {
        "colab": {
          "base_uri": "https://localhost:8080/",
          "height": 35
        },
        "id": "SgL6fSGyboTi",
        "outputId": "cf031941-6797-4f0c-a8a5-bee871f10ec6"
      },
      "outputs": [
        {
          "data": {
            "application/vnd.google.colaboratory.intrinsic+json": {
              "type": "string"
            },
            "text/plain": [
              "'30'"
            ]
          },
          "execution_count": 106,
          "metadata": {},
          "output_type": "execute_result"
        }
      ],
      "source": [
        "following = div.select_one(\"div:nth-of-type(1) > a:nth-of-type(2) > span\").text\n",
        "following"
      ]
    },
    {
      "cell_type": "code",
      "execution_count": null,
      "metadata": {
        "colab": {
          "base_uri": "https://localhost:8080/"
        },
        "id": "SV38EyyPbq4s",
        "outputId": "4dbc0632-6747-40c8-d344-81e8d02ece71"
      },
      "outputs": [
        {
          "data": {
            "text/plain": [
              "{'name': 'Kevin',\n",
              " 'bio': 'Head of Data Engineering at @Google-Developer-Student-Clubs-PUP-Main',\n",
              " 'contrib': '408',\n",
              " 'followers': '12',\n",
              " 'following': '30'}"
            ]
          },
          "execution_count": 107,
          "metadata": {},
          "output_type": "execute_result"
        }
      ],
      "source": [
        "output_dict  ={\n",
        "    'name': name,\n",
        "    'bio': bio,\n",
        "    'contrib': contrib,\n",
        "    'followers': followers,\n",
        "    'following': following\n",
        "}\n",
        "output_dict"
      ]
    },
    {
      "cell_type": "code",
      "execution_count": null,
      "metadata": {
        "colab": {
          "base_uri": "https://localhost:8080/",
          "height": 81
        },
        "id": "lOMu7LH0cHU3",
        "outputId": "57498884-b951-4de2-e297-b697be85b69c"
      },
      "outputs": [
        {
          "data": {
            "text/html": [
              "\n",
              "  <div id=\"df-64ec1ece-d16d-49a1-9c8d-8f072589f3dd\">\n",
              "    <div class=\"colab-df-container\">\n",
              "      <div>\n",
              "<style scoped>\n",
              "    .dataframe tbody tr th:only-of-type {\n",
              "        vertical-align: middle;\n",
              "    }\n",
              "\n",
              "    .dataframe tbody tr th {\n",
              "        vertical-align: top;\n",
              "    }\n",
              "\n",
              "    .dataframe thead th {\n",
              "        text-align: right;\n",
              "    }\n",
              "</style>\n",
              "<table border=\"1\" class=\"dataframe\">\n",
              "  <thead>\n",
              "    <tr style=\"text-align: right;\">\n",
              "      <th></th>\n",
              "      <th>name</th>\n",
              "      <th>bio</th>\n",
              "      <th>contrib</th>\n",
              "      <th>followers</th>\n",
              "      <th>following</th>\n",
              "    </tr>\n",
              "  </thead>\n",
              "  <tbody>\n",
              "    <tr>\n",
              "      <th>0</th>\n",
              "      <td>Kevin</td>\n",
              "      <td>Head of Data Engineering at @Google-Developer-...</td>\n",
              "      <td>408</td>\n",
              "      <td>12</td>\n",
              "      <td>30</td>\n",
              "    </tr>\n",
              "  </tbody>\n",
              "</table>\n",
              "</div>\n",
              "      <button class=\"colab-df-convert\" onclick=\"convertToInteractive('df-64ec1ece-d16d-49a1-9c8d-8f072589f3dd')\"\n",
              "              title=\"Convert this dataframe to an interactive table.\"\n",
              "              style=\"display:none;\">\n",
              "        \n",
              "  <svg xmlns=\"http://www.w3.org/2000/svg\" height=\"24px\"viewBox=\"0 0 24 24\"\n",
              "       width=\"24px\">\n",
              "    <path d=\"M0 0h24v24H0V0z\" fill=\"none\"/>\n",
              "    <path d=\"M18.56 5.44l.94 2.06.94-2.06 2.06-.94-2.06-.94-.94-2.06-.94 2.06-2.06.94zm-11 1L8.5 8.5l.94-2.06 2.06-.94-2.06-.94L8.5 2.5l-.94 2.06-2.06.94zm10 10l.94 2.06.94-2.06 2.06-.94-2.06-.94-.94-2.06-.94 2.06-2.06.94z\"/><path d=\"M17.41 7.96l-1.37-1.37c-.4-.4-.92-.59-1.43-.59-.52 0-1.04.2-1.43.59L10.3 9.45l-7.72 7.72c-.78.78-.78 2.05 0 2.83L4 21.41c.39.39.9.59 1.41.59.51 0 1.02-.2 1.41-.59l7.78-7.78 2.81-2.81c.8-.78.8-2.07 0-2.86zM5.41 20L4 18.59l7.72-7.72 1.47 1.35L5.41 20z\"/>\n",
              "  </svg>\n",
              "      </button>\n",
              "      \n",
              "  <style>\n",
              "    .colab-df-container {\n",
              "      display:flex;\n",
              "      flex-wrap:wrap;\n",
              "      gap: 12px;\n",
              "    }\n",
              "\n",
              "    .colab-df-convert {\n",
              "      background-color: #E8F0FE;\n",
              "      border: none;\n",
              "      border-radius: 50%;\n",
              "      cursor: pointer;\n",
              "      display: none;\n",
              "      fill: #1967D2;\n",
              "      height: 32px;\n",
              "      padding: 0 0 0 0;\n",
              "      width: 32px;\n",
              "    }\n",
              "\n",
              "    .colab-df-convert:hover {\n",
              "      background-color: #E2EBFA;\n",
              "      box-shadow: 0px 1px 2px rgba(60, 64, 67, 0.3), 0px 1px 3px 1px rgba(60, 64, 67, 0.15);\n",
              "      fill: #174EA6;\n",
              "    }\n",
              "\n",
              "    [theme=dark] .colab-df-convert {\n",
              "      background-color: #3B4455;\n",
              "      fill: #D2E3FC;\n",
              "    }\n",
              "\n",
              "    [theme=dark] .colab-df-convert:hover {\n",
              "      background-color: #434B5C;\n",
              "      box-shadow: 0px 1px 3px 1px rgba(0, 0, 0, 0.15);\n",
              "      filter: drop-shadow(0px 1px 2px rgba(0, 0, 0, 0.3));\n",
              "      fill: #FFFFFF;\n",
              "    }\n",
              "  </style>\n",
              "\n",
              "      <script>\n",
              "        const buttonEl =\n",
              "          document.querySelector('#df-64ec1ece-d16d-49a1-9c8d-8f072589f3dd button.colab-df-convert');\n",
              "        buttonEl.style.display =\n",
              "          google.colab.kernel.accessAllowed ? 'block' : 'none';\n",
              "\n",
              "        async function convertToInteractive(key) {\n",
              "          const element = document.querySelector('#df-64ec1ece-d16d-49a1-9c8d-8f072589f3dd');\n",
              "          const dataTable =\n",
              "            await google.colab.kernel.invokeFunction('convertToInteractive',\n",
              "                                                     [key], {});\n",
              "          if (!dataTable) return;\n",
              "\n",
              "          const docLinkHtml = 'Like what you see? Visit the ' +\n",
              "            '<a target=\"_blank\" href=https://colab.research.google.com/notebooks/data_table.ipynb>data table notebook</a>'\n",
              "            + ' to learn more about interactive tables.';\n",
              "          element.innerHTML = '';\n",
              "          dataTable['output_type'] = 'display_data';\n",
              "          await google.colab.output.renderOutput(dataTable, element);\n",
              "          const docLink = document.createElement('div');\n",
              "          docLink.innerHTML = docLinkHtml;\n",
              "          element.appendChild(docLink);\n",
              "        }\n",
              "      </script>\n",
              "    </div>\n",
              "  </div>\n",
              "  "
            ],
            "text/plain": [
              "    name                                                bio contrib followers  \\\n",
              "0  Kevin  Head of Data Engineering at @Google-Developer-...     408        12   \n",
              "\n",
              "  following  \n",
              "0        30  "
            ]
          },
          "execution_count": 108,
          "metadata": {},
          "output_type": "execute_result"
        }
      ],
      "source": [
        "df = pd.DataFrame(output_dict, index=[0])\n",
        "df.head()"
      ]
    },
    {
      "cell_type": "code",
      "execution_count": null,
      "metadata": {
        "id": "cbnTl6YlcKwu"
      },
      "outputs": [],
      "source": [
        "r = requests.get(\"https://github.com/KevsterAmp?tab=following\", headers=useragent)\n",
        "soup = BeautifulSoup(r.text)"
      ]
    },
    {
      "cell_type": "code",
      "execution_count": null,
      "metadata": {
        "colab": {
          "base_uri": "https://localhost:8080/"
        },
        "id": "5u-3AZkkc_-G",
        "outputId": "49bf1560-d0ca-495a-8d85-84c26fb54063"
      },
      "outputs": [
        {
          "name": "stdout",
          "output_type": "stream",
          "text": [
            "['RafaelMiguel03', 'acheamponge', 'JirroReo', 'ron-ligsay', 'jashuleyn', 'yam-1111', 'PaullyMac', 'Novelle-Estrella', 'kisuuuuu', 'LloydLegaspi', 'chrismargo', 'markmcrg', 'OmdenaAI', 'znarfm', 'jrzvnn', 'Karmotrine', 'patkyu', 'Google-Developer-Student-Clubs-PUP-Main']\n"
          ]
        }
      ],
      "source": [
        "url_links = [user.text for user in soup.select(\"span.Link--secondary.pl-1\")]\n",
        "print(url_links)"
      ]
    },
    {
      "cell_type": "code",
      "execution_count": null,
      "metadata": {
        "id": "SQfsAWpHdR2S"
      },
      "outputs": [],
      "source": [
        "user_links = ['https://github.com/'+ x for x in url_links]"
      ]
    },
    {
      "cell_type": "code",
      "execution_count": null,
      "metadata": {
        "colab": {
          "base_uri": "https://localhost:8080/"
        },
        "id": "aelYs1oEdmIV",
        "outputId": "48184924-83da-41d9-f231-345f8b1176c2"
      },
      "outputs": [
        {
          "name": "stdout",
          "output_type": "stream",
          "text": [
            "scraping user #1\n",
            "scraping user #2\n",
            "scraping user #3\n",
            "scraping user #4\n",
            "scraping user #5\n",
            "scraping user #6\n",
            "scraping user #7\n",
            "scraping user #8\n",
            "scraping user #9\n",
            "scraping user #10\n",
            "scraping user #11\n",
            "scraping user #12\n",
            "scraping user #13\n",
            "scraping user #14\n",
            "scraping user #15\n",
            "scraping user #16\n",
            "scraping user #17\n",
            "scraping user #18\n"
          ]
        }
      ],
      "source": [
        "output_dict = {\n",
        "    'name': [],\n",
        "    'bio': [],\n",
        "    'contrib': [],\n",
        "    'followers': [],\n",
        "    'following': []\n",
        "}\n",
        "for i, user in enumerate(user_links):\n",
        "  r = requests.get(user, headers=useragent)\n",
        "  soup = BeautifulSoup(r.text)\n",
        "  print(\"scraping user #\" + str(i+1))\n",
        "  name = soup.select_one(\"h1.vcard-names > span:nth-of-type(1)\")\n",
        "  if name is not None:\n",
        "    name = name.text.strip()\n",
        "  try:\n",
        "    bio = soup.select(\"div.p-note.user-profile-bio.mb-3.js-user-profile-bio.f4 > *\")[0].text.strip()\n",
        "  except:\n",
        "    bio = \"\"\n",
        "  try:\n",
        "    contrib = soup.select_one(\"div.position-relative > h2\").text.replace(\" \", \"\").replace(\"\\n\", \"\").replace(\"contributionsinthelastyear\", \"\")\n",
        "  except:\n",
        "    contrib = ''\n",
        "  try:\n",
        "    div = soup.select_one(\"div.flex-order-1.flex-md-order-none.mt-2.mt-md-0\")\n",
        "    followers = div.select_one(\"div:nth-of-type(1) > a:nth-of-type(1) > span\")\n",
        "    if followers is not None:\n",
        "      followers = followers.text\n",
        "    following = div.select_one(\"div:nth-of-type(1) > a:nth-of-type(2) > span\")\n",
        "    if following is not None:\n",
        "      following = following.text\n",
        "  except:\n",
        "    followers = \"\"\n",
        "    following = \"\"\n",
        "\n",
        "  output_dict['name'].append(name)\n",
        "  output_dict['bio'].append(bio)\n",
        "  output_dict['contrib'].append(contrib)\n",
        "  output_dict['followers'].append(followers)\n",
        "  output_dict['following'].append(following)"
      ]
    },
    {
      "cell_type": "code",
      "execution_count": null,
      "metadata": {
        "id": "Z2g6vKlEffvq"
      },
      "outputs": [],
      "source": [
        "df = pd.DataFrame(output_dict)"
      ]
    },
    {
      "cell_type": "code",
      "execution_count": null,
      "metadata": {
        "colab": {
          "base_uri": "https://localhost:8080/",
          "height": 614
        },
        "id": "bWe0trsSfiFo",
        "outputId": "7e4a6c36-917f-4c3a-a687-d96c464b2b0f"
      },
      "outputs": [
        {
          "data": {
            "text/html": [
              "\n",
              "  <div id=\"df-5b0fcbd3-0a5b-4dff-a5b2-9d5b9c5df298\">\n",
              "    <div class=\"colab-df-container\">\n",
              "      <div>\n",
              "<style scoped>\n",
              "    .dataframe tbody tr th:only-of-type {\n",
              "        vertical-align: middle;\n",
              "    }\n",
              "\n",
              "    .dataframe tbody tr th {\n",
              "        vertical-align: top;\n",
              "    }\n",
              "\n",
              "    .dataframe thead th {\n",
              "        text-align: right;\n",
              "    }\n",
              "</style>\n",
              "<table border=\"1\" class=\"dataframe\">\n",
              "  <thead>\n",
              "    <tr style=\"text-align: right;\">\n",
              "      <th></th>\n",
              "      <th>name</th>\n",
              "      <th>bio</th>\n",
              "      <th>contrib</th>\n",
              "      <th>followers</th>\n",
              "      <th>following</th>\n",
              "    </tr>\n",
              "  </thead>\n",
              "  <tbody>\n",
              "    <tr>\n",
              "      <th>0</th>\n",
              "      <td>Raf</td>\n",
              "      <td>1st-year Information Technology Student</td>\n",
              "      <td>29</td>\n",
              "      <td>4</td>\n",
              "      <td>10</td>\n",
              "    </tr>\n",
              "    <tr>\n",
              "      <th>1</th>\n",
              "      <td>Emmanuel Acheampong</td>\n",
              "      <td>AI Engineer | Co-Founder @ ROBO-BootCamp, robo...</td>\n",
              "      <td>65</td>\n",
              "      <td>359</td>\n",
              "      <td>35</td>\n",
              "    </tr>\n",
              "    <tr>\n",
              "      <th>2</th>\n",
              "      <td>Jirro Reo</td>\n",
              "      <td>Passionate Dev 💻 | BSCS  @ PUP MNL 🚀 |  Softwa...</td>\n",
              "      <td>177</td>\n",
              "      <td>14</td>\n",
              "      <td>5</td>\n",
              "    </tr>\n",
              "    <tr>\n",
              "      <th>3</th>\n",
              "      <td>Aron Ligsay</td>\n",
              "      <td>ML Engineer Specialize in Computer Vision | AI...</td>\n",
              "      <td>331</td>\n",
              "      <td>10</td>\n",
              "      <td>23</td>\n",
              "    </tr>\n",
              "    <tr>\n",
              "      <th>4</th>\n",
              "      <td>Jashlein Marquez</td>\n",
              "      <td>1st year Computer Science student</td>\n",
              "      <td>3</td>\n",
              "      <td>1</td>\n",
              "      <td>3</td>\n",
              "    </tr>\n",
              "    <tr>\n",
              "      <th>5</th>\n",
              "      <td>Anthony John</td>\n",
              "      <td></td>\n",
              "      <td>306</td>\n",
              "      <td>7</td>\n",
              "      <td>3</td>\n",
              "    </tr>\n",
              "    <tr>\n",
              "      <th>6</th>\n",
              "      <td>Paul Macaraeg</td>\n",
              "      <td></td>\n",
              "      <td>13</td>\n",
              "      <td>1</td>\n",
              "      <td>1</td>\n",
              "    </tr>\n",
              "    <tr>\n",
              "      <th>7</th>\n",
              "      <td>Novelle Estrella</td>\n",
              "      <td>Egghead. Eccentric. Skeptic.</td>\n",
              "      <td>4</td>\n",
              "      <td>1</td>\n",
              "      <td>0</td>\n",
              "    </tr>\n",
              "    <tr>\n",
              "      <th>8</th>\n",
              "      <td>Keith Montemayor</td>\n",
              "      <td></td>\n",
              "      <td>6</td>\n",
              "      <td>3</td>\n",
              "      <td>2</td>\n",
              "    </tr>\n",
              "    <tr>\n",
              "      <th>9</th>\n",
              "      <td>John Lloyd S. Legaspi</td>\n",
              "      <td>1st Year Computer Science Student</td>\n",
              "      <td>5</td>\n",
              "      <td>2</td>\n",
              "      <td>1</td>\n",
              "    </tr>\n",
              "    <tr>\n",
              "      <th>10</th>\n",
              "      <td>Chris Margate</td>\n",
              "      <td></td>\n",
              "      <td>677</td>\n",
              "      <td>5</td>\n",
              "      <td>8</td>\n",
              "    </tr>\n",
              "    <tr>\n",
              "      <th>11</th>\n",
              "      <td>Mark</td>\n",
              "      <td>Data Engineering Fellow Lead at GDSC - PUP Main</td>\n",
              "      <td>1,355</td>\n",
              "      <td>4</td>\n",
              "      <td>6</td>\n",
              "    </tr>\n",
              "    <tr>\n",
              "      <th>12</th>\n",
              "      <td>None</td>\n",
              "      <td></td>\n",
              "      <td></td>\n",
              "      <td></td>\n",
              "      <td></td>\n",
              "    </tr>\n",
              "    <tr>\n",
              "      <th>13</th>\n",
              "      <td>meco</td>\n",
              "      <td>...</td>\n",
              "      <td>37</td>\n",
              "      <td>2</td>\n",
              "      <td>12</td>\n",
              "    </tr>\n",
              "    <tr>\n",
              "      <th>14</th>\n",
              "      <td>Joriz</td>\n",
              "      <td>Coffee-powered developer, fueled by deadlines ...</td>\n",
              "      <td>41</td>\n",
              "      <td>7</td>\n",
              "      <td>5</td>\n",
              "    </tr>\n",
              "    <tr>\n",
              "      <th>15</th>\n",
              "      <td>Yuan</td>\n",
              "      <td></td>\n",
              "      <td>512</td>\n",
              "      <td>4</td>\n",
              "      <td>5</td>\n",
              "    </tr>\n",
              "    <tr>\n",
              "      <th>16</th>\n",
              "      <td>Patricia Mae Quitoriano</td>\n",
              "      <td>A Filipino student who loves to code &lt;3</td>\n",
              "      <td>41</td>\n",
              "      <td>3</td>\n",
              "      <td>5</td>\n",
              "    </tr>\n",
              "    <tr>\n",
              "      <th>17</th>\n",
              "      <td>None</td>\n",
              "      <td></td>\n",
              "      <td></td>\n",
              "      <td></td>\n",
              "      <td></td>\n",
              "    </tr>\n",
              "  </tbody>\n",
              "</table>\n",
              "</div>\n",
              "      <button class=\"colab-df-convert\" onclick=\"convertToInteractive('df-5b0fcbd3-0a5b-4dff-a5b2-9d5b9c5df298')\"\n",
              "              title=\"Convert this dataframe to an interactive table.\"\n",
              "              style=\"display:none;\">\n",
              "        \n",
              "  <svg xmlns=\"http://www.w3.org/2000/svg\" height=\"24px\"viewBox=\"0 0 24 24\"\n",
              "       width=\"24px\">\n",
              "    <path d=\"M0 0h24v24H0V0z\" fill=\"none\"/>\n",
              "    <path d=\"M18.56 5.44l.94 2.06.94-2.06 2.06-.94-2.06-.94-.94-2.06-.94 2.06-2.06.94zm-11 1L8.5 8.5l.94-2.06 2.06-.94-2.06-.94L8.5 2.5l-.94 2.06-2.06.94zm10 10l.94 2.06.94-2.06 2.06-.94-2.06-.94-.94-2.06-.94 2.06-2.06.94z\"/><path d=\"M17.41 7.96l-1.37-1.37c-.4-.4-.92-.59-1.43-.59-.52 0-1.04.2-1.43.59L10.3 9.45l-7.72 7.72c-.78.78-.78 2.05 0 2.83L4 21.41c.39.39.9.59 1.41.59.51 0 1.02-.2 1.41-.59l7.78-7.78 2.81-2.81c.8-.78.8-2.07 0-2.86zM5.41 20L4 18.59l7.72-7.72 1.47 1.35L5.41 20z\"/>\n",
              "  </svg>\n",
              "      </button>\n",
              "      \n",
              "  <style>\n",
              "    .colab-df-container {\n",
              "      display:flex;\n",
              "      flex-wrap:wrap;\n",
              "      gap: 12px;\n",
              "    }\n",
              "\n",
              "    .colab-df-convert {\n",
              "      background-color: #E8F0FE;\n",
              "      border: none;\n",
              "      border-radius: 50%;\n",
              "      cursor: pointer;\n",
              "      display: none;\n",
              "      fill: #1967D2;\n",
              "      height: 32px;\n",
              "      padding: 0 0 0 0;\n",
              "      width: 32px;\n",
              "    }\n",
              "\n",
              "    .colab-df-convert:hover {\n",
              "      background-color: #E2EBFA;\n",
              "      box-shadow: 0px 1px 2px rgba(60, 64, 67, 0.3), 0px 1px 3px 1px rgba(60, 64, 67, 0.15);\n",
              "      fill: #174EA6;\n",
              "    }\n",
              "\n",
              "    [theme=dark] .colab-df-convert {\n",
              "      background-color: #3B4455;\n",
              "      fill: #D2E3FC;\n",
              "    }\n",
              "\n",
              "    [theme=dark] .colab-df-convert:hover {\n",
              "      background-color: #434B5C;\n",
              "      box-shadow: 0px 1px 3px 1px rgba(0, 0, 0, 0.15);\n",
              "      filter: drop-shadow(0px 1px 2px rgba(0, 0, 0, 0.3));\n",
              "      fill: #FFFFFF;\n",
              "    }\n",
              "  </style>\n",
              "\n",
              "      <script>\n",
              "        const buttonEl =\n",
              "          document.querySelector('#df-5b0fcbd3-0a5b-4dff-a5b2-9d5b9c5df298 button.colab-df-convert');\n",
              "        buttonEl.style.display =\n",
              "          google.colab.kernel.accessAllowed ? 'block' : 'none';\n",
              "\n",
              "        async function convertToInteractive(key) {\n",
              "          const element = document.querySelector('#df-5b0fcbd3-0a5b-4dff-a5b2-9d5b9c5df298');\n",
              "          const dataTable =\n",
              "            await google.colab.kernel.invokeFunction('convertToInteractive',\n",
              "                                                     [key], {});\n",
              "          if (!dataTable) return;\n",
              "\n",
              "          const docLinkHtml = 'Like what you see? Visit the ' +\n",
              "            '<a target=\"_blank\" href=https://colab.research.google.com/notebooks/data_table.ipynb>data table notebook</a>'\n",
              "            + ' to learn more about interactive tables.';\n",
              "          element.innerHTML = '';\n",
              "          dataTable['output_type'] = 'display_data';\n",
              "          await google.colab.output.renderOutput(dataTable, element);\n",
              "          const docLink = document.createElement('div');\n",
              "          docLink.innerHTML = docLinkHtml;\n",
              "          element.appendChild(docLink);\n",
              "        }\n",
              "      </script>\n",
              "    </div>\n",
              "  </div>\n",
              "  "
            ],
            "text/plain": [
              "                       name  \\\n",
              "0                       Raf   \n",
              "1       Emmanuel Acheampong   \n",
              "2                 Jirro Reo   \n",
              "3               Aron Ligsay   \n",
              "4          Jashlein Marquez   \n",
              "5              Anthony John   \n",
              "6             Paul Macaraeg   \n",
              "7          Novelle Estrella   \n",
              "8          Keith Montemayor   \n",
              "9     John Lloyd S. Legaspi   \n",
              "10            Chris Margate   \n",
              "11                     Mark   \n",
              "12                     None   \n",
              "13                     meco   \n",
              "14                    Joriz   \n",
              "15                     Yuan   \n",
              "16  Patricia Mae Quitoriano   \n",
              "17                     None   \n",
              "\n",
              "                                                  bio contrib followers  \\\n",
              "0             1st-year Information Technology Student      29         4   \n",
              "1   AI Engineer | Co-Founder @ ROBO-BootCamp, robo...      65       359   \n",
              "2   Passionate Dev 💻 | BSCS  @ PUP MNL 🚀 |  Softwa...     177        14   \n",
              "3   ML Engineer Specialize in Computer Vision | AI...     331        10   \n",
              "4                   1st year Computer Science student       3         1   \n",
              "5                                                         306         7   \n",
              "6                                                          13         1   \n",
              "7                        Egghead. Eccentric. Skeptic.       4         1   \n",
              "8                                                           6         3   \n",
              "9                   1st Year Computer Science Student       5         2   \n",
              "10                                                        677         5   \n",
              "11    Data Engineering Fellow Lead at GDSC - PUP Main   1,355         4   \n",
              "12                                                                        \n",
              "13                                                ...      37         2   \n",
              "14  Coffee-powered developer, fueled by deadlines ...      41         7   \n",
              "15                                                        512         4   \n",
              "16            A Filipino student who loves to code <3      41         3   \n",
              "17                                                                        \n",
              "\n",
              "   following  \n",
              "0         10  \n",
              "1         35  \n",
              "2          5  \n",
              "3         23  \n",
              "4          3  \n",
              "5          3  \n",
              "6          1  \n",
              "7          0  \n",
              "8          2  \n",
              "9          1  \n",
              "10         8  \n",
              "11         6  \n",
              "12            \n",
              "13        12  \n",
              "14         5  \n",
              "15         5  \n",
              "16         5  \n",
              "17            "
            ]
          },
          "execution_count": 96,
          "metadata": {},
          "output_type": "execute_result"
        }
      ],
      "source": [
        "df"
      ]
    }
  ],
  "metadata": {
    "colab": {
      "provenance": []
    },
    "kernelspec": {
      "display_name": "Python 3",
      "name": "python3"
    },
    "language_info": {
      "name": "python"
    }
  },
  "nbformat": 4,
  "nbformat_minor": 0
}
