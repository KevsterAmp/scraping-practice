{
 "cells": [
  {
   "cell_type": "code",
   "execution_count": 26,
   "metadata": {},
   "outputs": [],
   "source": [
    "import requests\n",
    "from bs4 import BeautifulSoup\n",
    "import time"
   ]
  },
  {
   "cell_type": "code",
   "execution_count": 27,
   "metadata": {},
   "outputs": [],
   "source": [
    "url = 'https://www.vice.com/en/sitemap/'\n",
    "r = requests.get(url)\n",
    "sp = BeautifulSoup(r.text, features=\"xml\")"
   ]
  },
  {
   "cell_type": "code",
   "execution_count": 28,
   "metadata": {},
   "outputs": [
    {
     "data": {
      "text/plain": [
       "618"
      ]
     },
     "execution_count": 28,
     "metadata": {},
     "output_type": "execute_result"
    }
   ],
   "source": [
    "links = sp.find_all('loc')\n",
    "len(links)"
   ]
  },
  {
   "cell_type": "code",
   "execution_count": 52,
   "metadata": {},
   "outputs": [],
   "source": [
    "to_df = {'links': [], 'date': []} \n",
    "\n",
    "for link in links:\n",
    "    r = requests.get(link.text)\n",
    "    sp = BeautifulSoup(r.text, features=\"xml\")\n",
    "\n",
    "    if r.status_code == 200:\n",
    "        divs = sp.find_all(\"url\")\n",
    "        for div in divs:\n",
    "            url = div.find(\"loc\").text\n",
    "            if url.startswith('https://www.vice.com/en/article/'):\n",
    "                date = div.find(\"lastmod\").text\n",
    "                to_df['links'].append(url)\n",
    "                to_df['date'].append(date)\n"
   ]
  },
  {
   "cell_type": "code",
   "execution_count": 53,
   "metadata": {},
   "outputs": [
    {
     "data": {
      "text/plain": [
       "516222"
      ]
     },
     "execution_count": 53,
     "metadata": {},
     "output_type": "execute_result"
    }
   ],
   "source": [
    "len(to_df['links'])"
   ]
  },
  {
   "cell_type": "code",
   "execution_count": 66,
   "metadata": {},
   "outputs": [
    {
     "data": {
      "text/html": [
       "<div>\n",
       "<style scoped>\n",
       "    .dataframe tbody tr th:only-of-type {\n",
       "        vertical-align: middle;\n",
       "    }\n",
       "\n",
       "    .dataframe tbody tr th {\n",
       "        vertical-align: top;\n",
       "    }\n",
       "\n",
       "    .dataframe thead th {\n",
       "        text-align: right;\n",
       "    }\n",
       "</style>\n",
       "<table border=\"1\" class=\"dataframe\">\n",
       "  <thead>\n",
       "    <tr style=\"text-align: right;\">\n",
       "      <th></th>\n",
       "      <th>links</th>\n",
       "      <th>date</th>\n",
       "    </tr>\n",
       "  </thead>\n",
       "  <tbody>\n",
       "    <tr>\n",
       "      <th>0</th>\n",
       "      <td>https://www.vice.com/en/article/k7bdey/what-is...</td>\n",
       "      <td>2023-02-01T15:30:38.080Z</td>\n",
       "    </tr>\n",
       "    <tr>\n",
       "      <th>1</th>\n",
       "      <td>https://www.vice.com/en/article/qjkykx/diy-cri...</td>\n",
       "      <td>2023-01-26T15:07:14.175Z</td>\n",
       "    </tr>\n",
       "    <tr>\n",
       "      <th>2</th>\n",
       "      <td>https://www.vice.com/en/article/epzez7/mysteri...</td>\n",
       "      <td>2023-01-26T14:10:59.495Z</td>\n",
       "    </tr>\n",
       "    <tr>\n",
       "      <th>3</th>\n",
       "      <td>https://www.vice.com/en/article/pkgngz/why-imm...</td>\n",
       "      <td>2023-01-26T14:31:01.580Z</td>\n",
       "    </tr>\n",
       "    <tr>\n",
       "      <th>4</th>\n",
       "      <td>https://www.vice.com/en/article/88qyng/scrapbo...</td>\n",
       "      <td>2023-01-26T16:14:30.195Z</td>\n",
       "    </tr>\n",
       "  </tbody>\n",
       "</table>\n",
       "</div>"
      ],
      "text/plain": [
       "                                               links                      date\n",
       "0  https://www.vice.com/en/article/k7bdey/what-is...  2023-02-01T15:30:38.080Z\n",
       "1  https://www.vice.com/en/article/qjkykx/diy-cri...  2023-01-26T15:07:14.175Z\n",
       "2  https://www.vice.com/en/article/epzez7/mysteri...  2023-01-26T14:10:59.495Z\n",
       "3  https://www.vice.com/en/article/pkgngz/why-imm...  2023-01-26T14:31:01.580Z\n",
       "4  https://www.vice.com/en/article/88qyng/scrapbo...  2023-01-26T16:14:30.195Z"
      ]
     },
     "execution_count": 66,
     "metadata": {},
     "output_type": "execute_result"
    }
   ],
   "source": [
    "import pandas as pd\n",
    "df = pd.DataFrame(to_df)\n",
    "df.head()"
   ]
  },
  {
   "cell_type": "code",
   "execution_count": 67,
   "metadata": {},
   "outputs": [
    {
     "data": {
      "text/html": [
       "<div>\n",
       "<style scoped>\n",
       "    .dataframe tbody tr th:only-of-type {\n",
       "        vertical-align: middle;\n",
       "    }\n",
       "\n",
       "    .dataframe tbody tr th {\n",
       "        vertical-align: top;\n",
       "    }\n",
       "\n",
       "    .dataframe thead th {\n",
       "        text-align: right;\n",
       "    }\n",
       "</style>\n",
       "<table border=\"1\" class=\"dataframe\">\n",
       "  <thead>\n",
       "    <tr style=\"text-align: right;\">\n",
       "      <th></th>\n",
       "      <th>links</th>\n",
       "      <th>date</th>\n",
       "    </tr>\n",
       "  </thead>\n",
       "  <tbody>\n",
       "    <tr>\n",
       "      <th>516217</th>\n",
       "      <td>https://www.vice.com/en/article/xgwq4j/was-jes...</td>\n",
       "      <td>2023-03-10T00:51:55.263Z</td>\n",
       "    </tr>\n",
       "    <tr>\n",
       "      <th>516218</th>\n",
       "      <td>https://www.vice.com/en/article/bvjgpw/people-...</td>\n",
       "      <td>2023-03-10T01:39:14.924Z</td>\n",
       "    </tr>\n",
       "    <tr>\n",
       "      <th>516219</th>\n",
       "      <td>https://www.vice.com/en/article/k7zexm/this-we...</td>\n",
       "      <td>2023-03-10T01:11:06.774Z</td>\n",
       "    </tr>\n",
       "    <tr>\n",
       "      <th>516220</th>\n",
       "      <td>https://www.vice.com/en/article/v7b4p4/steroid...</td>\n",
       "      <td>2023-03-10T03:58:26.904Z</td>\n",
       "    </tr>\n",
       "    <tr>\n",
       "      <th>516221</th>\n",
       "      <td>https://www.vice.com/en/article/v7b4q4/donald-...</td>\n",
       "      <td>2023-03-10T05:11:02.190Z</td>\n",
       "    </tr>\n",
       "  </tbody>\n",
       "</table>\n",
       "</div>"
      ],
      "text/plain": [
       "                                                    links  \\\n",
       "516217  https://www.vice.com/en/article/xgwq4j/was-jes...   \n",
       "516218  https://www.vice.com/en/article/bvjgpw/people-...   \n",
       "516219  https://www.vice.com/en/article/k7zexm/this-we...   \n",
       "516220  https://www.vice.com/en/article/v7b4p4/steroid...   \n",
       "516221  https://www.vice.com/en/article/v7b4q4/donald-...   \n",
       "\n",
       "                            date  \n",
       "516217  2023-03-10T00:51:55.263Z  \n",
       "516218  2023-03-10T01:39:14.924Z  \n",
       "516219  2023-03-10T01:11:06.774Z  \n",
       "516220  2023-03-10T03:58:26.904Z  \n",
       "516221  2023-03-10T05:11:02.190Z  "
      ]
     },
     "execution_count": 67,
     "metadata": {},
     "output_type": "execute_result"
    }
   ],
   "source": [
    "df.tail()"
   ]
  },
  {
   "cell_type": "code",
   "execution_count": 70,
   "metadata": {},
   "outputs": [
    {
     "data": {
      "text/plain": [
       "(103222, 2)"
      ]
     },
     "execution_count": 70,
     "metadata": {},
     "output_type": "execute_result"
    }
   ],
   "source": [
    "temp = df[df['date'].str.startswith(\"2023\")!=True]\n",
    "temp.shape"
   ]
  },
  {
   "cell_type": "code",
   "execution_count": 71,
   "metadata": {},
   "outputs": [],
   "source": [
    "df.to_csv(\"vice_links.csv\", index=False)"
   ]
  }
 ],
 "metadata": {
  "kernelspec": {
   "display_name": "Python 3",
   "language": "python",
   "name": "python3"
  },
  "language_info": {
   "codemirror_mode": {
    "name": "ipython",
    "version": 3
   },
   "file_extension": ".py",
   "mimetype": "text/x-python",
   "name": "python",
   "nbconvert_exporter": "python",
   "pygments_lexer": "ipython3",
   "version": "3.11.1"
  },
  "orig_nbformat": 4
 },
 "nbformat": 4,
 "nbformat_minor": 2
}
